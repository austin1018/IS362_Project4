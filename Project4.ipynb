{
 "cells": [
  {
   "cell_type": "markdown",
   "id": "0db355cf",
   "metadata": {},
   "source": [
    "Import pandas library"
   ]
  },
  {
   "cell_type": "code",
   "execution_count": 1,
   "id": "8c54524d",
   "metadata": {},
   "outputs": [],
   "source": [
    "import pandas as pd\n",
    "import numpy as ny"
   ]
  },
  {
   "cell_type": "markdown",
   "id": "7eebdc30",
   "metadata": {},
   "source": [
    "Read data file"
   ]
  },
  {
   "cell_type": "code",
   "execution_count": 2,
   "id": "62c26b17",
   "metadata": {},
   "outputs": [],
   "source": [
    "df=pd.read_csv(\"https://raw.githubusercontent.com/austin1018/IS362_Assignment12/main/agaricus-lepiota.data\", header=None\n",
    "              ,names=[\"class\",\"cap-shape\", \"cap-surface\", \"cap-color\", \"bruises\",\"odor\",\"gill-attachment\",\"gill-spacing\",\"gill-size\"\n",
    "                     ,\"gill-color\",\"stalk-shape\",\"stalk-root\",\"stalk-surface-above-ring\",\"stalk-surface-below-ring\"\n",
    "                     ,\"stalk-color-above-ring\",\"stalk-color-below-ring\",\"veil-type\",\"veil-color\",\"ring-number\",\"ring-type\"\n",
    "                     ,\"spore-print-color\",\"population\",\"habitat\"])"
   ]
  },
  {
   "cell_type": "code",
   "execution_count": 3,
   "id": "4701171f",
   "metadata": {},
   "outputs": [
    {
     "data": {
      "text/html": [
       "<div>\n",
       "<style scoped>\n",
       "    .dataframe tbody tr th:only-of-type {\n",
       "        vertical-align: middle;\n",
       "    }\n",
       "\n",
       "    .dataframe tbody tr th {\n",
       "        vertical-align: top;\n",
       "    }\n",
       "\n",
       "    .dataframe thead th {\n",
       "        text-align: right;\n",
       "    }\n",
       "</style>\n",
       "<table border=\"1\" class=\"dataframe\">\n",
       "  <thead>\n",
       "    <tr style=\"text-align: right;\">\n",
       "      <th></th>\n",
       "      <th>class</th>\n",
       "      <th>cap-shape</th>\n",
       "      <th>cap-surface</th>\n",
       "      <th>cap-color</th>\n",
       "      <th>bruises</th>\n",
       "      <th>odor</th>\n",
       "      <th>gill-attachment</th>\n",
       "      <th>gill-spacing</th>\n",
       "      <th>gill-size</th>\n",
       "      <th>gill-color</th>\n",
       "      <th>...</th>\n",
       "      <th>stalk-surface-below-ring</th>\n",
       "      <th>stalk-color-above-ring</th>\n",
       "      <th>stalk-color-below-ring</th>\n",
       "      <th>veil-type</th>\n",
       "      <th>veil-color</th>\n",
       "      <th>ring-number</th>\n",
       "      <th>ring-type</th>\n",
       "      <th>spore-print-color</th>\n",
       "      <th>population</th>\n",
       "      <th>habitat</th>\n",
       "    </tr>\n",
       "  </thead>\n",
       "  <tbody>\n",
       "    <tr>\n",
       "      <th>0</th>\n",
       "      <td>p</td>\n",
       "      <td>x</td>\n",
       "      <td>s</td>\n",
       "      <td>n</td>\n",
       "      <td>t</td>\n",
       "      <td>p</td>\n",
       "      <td>f</td>\n",
       "      <td>c</td>\n",
       "      <td>n</td>\n",
       "      <td>k</td>\n",
       "      <td>...</td>\n",
       "      <td>s</td>\n",
       "      <td>w</td>\n",
       "      <td>w</td>\n",
       "      <td>p</td>\n",
       "      <td>w</td>\n",
       "      <td>o</td>\n",
       "      <td>p</td>\n",
       "      <td>k</td>\n",
       "      <td>s</td>\n",
       "      <td>u</td>\n",
       "    </tr>\n",
       "    <tr>\n",
       "      <th>1</th>\n",
       "      <td>e</td>\n",
       "      <td>x</td>\n",
       "      <td>s</td>\n",
       "      <td>y</td>\n",
       "      <td>t</td>\n",
       "      <td>a</td>\n",
       "      <td>f</td>\n",
       "      <td>c</td>\n",
       "      <td>b</td>\n",
       "      <td>k</td>\n",
       "      <td>...</td>\n",
       "      <td>s</td>\n",
       "      <td>w</td>\n",
       "      <td>w</td>\n",
       "      <td>p</td>\n",
       "      <td>w</td>\n",
       "      <td>o</td>\n",
       "      <td>p</td>\n",
       "      <td>n</td>\n",
       "      <td>n</td>\n",
       "      <td>g</td>\n",
       "    </tr>\n",
       "    <tr>\n",
       "      <th>2</th>\n",
       "      <td>e</td>\n",
       "      <td>b</td>\n",
       "      <td>s</td>\n",
       "      <td>w</td>\n",
       "      <td>t</td>\n",
       "      <td>l</td>\n",
       "      <td>f</td>\n",
       "      <td>c</td>\n",
       "      <td>b</td>\n",
       "      <td>n</td>\n",
       "      <td>...</td>\n",
       "      <td>s</td>\n",
       "      <td>w</td>\n",
       "      <td>w</td>\n",
       "      <td>p</td>\n",
       "      <td>w</td>\n",
       "      <td>o</td>\n",
       "      <td>p</td>\n",
       "      <td>n</td>\n",
       "      <td>n</td>\n",
       "      <td>m</td>\n",
       "    </tr>\n",
       "    <tr>\n",
       "      <th>3</th>\n",
       "      <td>p</td>\n",
       "      <td>x</td>\n",
       "      <td>y</td>\n",
       "      <td>w</td>\n",
       "      <td>t</td>\n",
       "      <td>p</td>\n",
       "      <td>f</td>\n",
       "      <td>c</td>\n",
       "      <td>n</td>\n",
       "      <td>n</td>\n",
       "      <td>...</td>\n",
       "      <td>s</td>\n",
       "      <td>w</td>\n",
       "      <td>w</td>\n",
       "      <td>p</td>\n",
       "      <td>w</td>\n",
       "      <td>o</td>\n",
       "      <td>p</td>\n",
       "      <td>k</td>\n",
       "      <td>s</td>\n",
       "      <td>u</td>\n",
       "    </tr>\n",
       "    <tr>\n",
       "      <th>4</th>\n",
       "      <td>e</td>\n",
       "      <td>x</td>\n",
       "      <td>s</td>\n",
       "      <td>g</td>\n",
       "      <td>f</td>\n",
       "      <td>n</td>\n",
       "      <td>f</td>\n",
       "      <td>w</td>\n",
       "      <td>b</td>\n",
       "      <td>k</td>\n",
       "      <td>...</td>\n",
       "      <td>s</td>\n",
       "      <td>w</td>\n",
       "      <td>w</td>\n",
       "      <td>p</td>\n",
       "      <td>w</td>\n",
       "      <td>o</td>\n",
       "      <td>e</td>\n",
       "      <td>n</td>\n",
       "      <td>a</td>\n",
       "      <td>g</td>\n",
       "    </tr>\n",
       "  </tbody>\n",
       "</table>\n",
       "<p>5 rows × 23 columns</p>\n",
       "</div>"
      ],
      "text/plain": [
       "  class cap-shape cap-surface cap-color bruises odor gill-attachment  \\\n",
       "0     p         x           s         n       t    p               f   \n",
       "1     e         x           s         y       t    a               f   \n",
       "2     e         b           s         w       t    l               f   \n",
       "3     p         x           y         w       t    p               f   \n",
       "4     e         x           s         g       f    n               f   \n",
       "\n",
       "  gill-spacing gill-size gill-color  ... stalk-surface-below-ring  \\\n",
       "0            c         n          k  ...                        s   \n",
       "1            c         b          k  ...                        s   \n",
       "2            c         b          n  ...                        s   \n",
       "3            c         n          n  ...                        s   \n",
       "4            w         b          k  ...                        s   \n",
       "\n",
       "  stalk-color-above-ring stalk-color-below-ring veil-type veil-color  \\\n",
       "0                      w                      w         p          w   \n",
       "1                      w                      w         p          w   \n",
       "2                      w                      w         p          w   \n",
       "3                      w                      w         p          w   \n",
       "4                      w                      w         p          w   \n",
       "\n",
       "  ring-number ring-type spore-print-color population habitat  \n",
       "0           o         p                 k          s       u  \n",
       "1           o         p                 n          n       g  \n",
       "2           o         p                 n          n       m  \n",
       "3           o         p                 k          s       u  \n",
       "4           o         e                 n          a       g  \n",
       "\n",
       "[5 rows x 23 columns]"
      ]
     },
     "execution_count": 3,
     "metadata": {},
     "output_type": "execute_result"
    }
   ],
   "source": [
    "df.head()"
   ]
  },
  {
   "cell_type": "markdown",
   "id": "0a6e9b62",
   "metadata": {},
   "source": [
    "Take the subset from original dataset"
   ]
  },
  {
   "cell_type": "code",
   "execution_count": 4,
   "id": "edfc7a1c",
   "metadata": {},
   "outputs": [],
   "source": [
    "df_subset= df[[\"class\", \"odor\",\"cap-shape\"]]"
   ]
  },
  {
   "cell_type": "markdown",
   "id": "7407f6c5",
   "metadata": {},
   "source": [
    "Replace the value with number to prepare for showing data in scatter plot"
   ]
  },
  {
   "cell_type": "code",
   "execution_count": 5,
   "id": "2e65a8b7",
   "metadata": {},
   "outputs": [
    {
     "name": "stderr",
     "output_type": "stream",
     "text": [
      "<ipython-input-5-67a172f8eb6b>:1: SettingWithCopyWarning: \n",
      "A value is trying to be set on a copy of a slice from a DataFrame.\n",
      "Try using .loc[row_indexer,col_indexer] = value instead\n",
      "\n",
      "See the caveats in the documentation: https://pandas.pydata.org/pandas-docs/stable/user_guide/indexing.html#returning-a-view-versus-a-copy\n",
      "  df_subset[\"class\"]=df_subset[\"class\"].str.replace(\"p\",\"1\").replace(\"e\",\"2\")\n",
      "<ipython-input-5-67a172f8eb6b>:2: SettingWithCopyWarning: \n",
      "A value is trying to be set on a copy of a slice from a DataFrame.\n",
      "Try using .loc[row_indexer,col_indexer] = value instead\n",
      "\n",
      "See the caveats in the documentation: https://pandas.pydata.org/pandas-docs/stable/user_guide/indexing.html#returning-a-view-versus-a-copy\n",
      "  df_subset[\"odor\"]=df_subset[\"odor\"].str.replace(\"a\",\"1\").replace(\"l\",\"2\").replace(\"c\",\"3\").replace(\"y\",\"4\").replace(\"f\",\"5\").replace(\"m\",\"6\").replace(\"n\",\"7\").replace(\"p\",\"8\").replace(\"s\",\"9\")\n",
      "<ipython-input-5-67a172f8eb6b>:3: SettingWithCopyWarning: \n",
      "A value is trying to be set on a copy of a slice from a DataFrame.\n",
      "Try using .loc[row_indexer,col_indexer] = value instead\n",
      "\n",
      "See the caveats in the documentation: https://pandas.pydata.org/pandas-docs/stable/user_guide/indexing.html#returning-a-view-versus-a-copy\n",
      "  df_subset[\"cap-shape\"]=df_subset[\"cap-shape\"].str.replace(\"b\",\"1\").replace(\"c\",\"2\").replace(\"x\",\"3\").replace(\"f\",\"4\").replace(\"k\",\"5\").replace(\"s\",\"6\")\n"
     ]
    }
   ],
   "source": [
    "df_subset[\"class\"]=df_subset[\"class\"].str.replace(\"p\",\"1\").replace(\"e\",\"2\")\n",
    "df_subset[\"odor\"]=df_subset[\"odor\"].str.replace(\"a\",\"1\").replace(\"l\",\"2\").replace(\"c\",\"3\").replace(\"y\",\"4\").replace(\"f\",\"5\").replace(\"m\",\"6\").replace(\"n\",\"7\").replace(\"p\",\"8\").replace(\"s\",\"9\")\n",
    "df_subset[\"cap-shape\"]=df_subset[\"cap-shape\"].str.replace(\"b\",\"1\").replace(\"c\",\"2\").replace(\"x\",\"3\").replace(\"f\",\"4\").replace(\"k\",\"5\").replace(\"s\",\"6\")"
   ]
  },
  {
   "cell_type": "markdown",
   "id": "2cf4175c",
   "metadata": {},
   "source": [
    "Convert the number to integer"
   ]
  },
  {
   "cell_type": "code",
   "execution_count": 6,
   "id": "3e9fc0a8",
   "metadata": {},
   "outputs": [
    {
     "name": "stderr",
     "output_type": "stream",
     "text": [
      "<ipython-input-6-76c44af850a3>:1: SettingWithCopyWarning: \n",
      "A value is trying to be set on a copy of a slice from a DataFrame.\n",
      "Try using .loc[row_indexer,col_indexer] = value instead\n",
      "\n",
      "See the caveats in the documentation: https://pandas.pydata.org/pandas-docs/stable/user_guide/indexing.html#returning-a-view-versus-a-copy\n",
      "  df_subset['class'] = df_subset['class'].astype(int)\n",
      "<ipython-input-6-76c44af850a3>:2: SettingWithCopyWarning: \n",
      "A value is trying to be set on a copy of a slice from a DataFrame.\n",
      "Try using .loc[row_indexer,col_indexer] = value instead\n",
      "\n",
      "See the caveats in the documentation: https://pandas.pydata.org/pandas-docs/stable/user_guide/indexing.html#returning-a-view-versus-a-copy\n",
      "  df_subset['odor'] = df_subset['odor'].astype(int)\n",
      "<ipython-input-6-76c44af850a3>:3: SettingWithCopyWarning: \n",
      "A value is trying to be set on a copy of a slice from a DataFrame.\n",
      "Try using .loc[row_indexer,col_indexer] = value instead\n",
      "\n",
      "See the caveats in the documentation: https://pandas.pydata.org/pandas-docs/stable/user_guide/indexing.html#returning-a-view-versus-a-copy\n",
      "  df_subset['cap-shape'] = df_subset['cap-shape'].astype(int)\n"
     ]
    }
   ],
   "source": [
    "df_subset['class'] = df_subset['class'].astype(int)\n",
    "df_subset['odor'] = df_subset['odor'].astype(int)\n",
    "df_subset['cap-shape'] = df_subset['cap-shape'].astype(int)"
   ]
  },
  {
   "cell_type": "markdown",
   "id": "3ce67491",
   "metadata": {},
   "source": [
    "Show the distribution of data for each of the columns I selected"
   ]
  },
  {
   "cell_type": "code",
   "execution_count": 12,
   "id": "8f0dfd3c",
   "metadata": {},
   "outputs": [
    {
     "data": {
      "text/html": [
       "<div>\n",
       "<style scoped>\n",
       "    .dataframe tbody tr th:only-of-type {\n",
       "        vertical-align: middle;\n",
       "    }\n",
       "\n",
       "    .dataframe tbody tr th {\n",
       "        vertical-align: top;\n",
       "    }\n",
       "\n",
       "    .dataframe thead th {\n",
       "        text-align: right;\n",
       "    }\n",
       "</style>\n",
       "<table border=\"1\" class=\"dataframe\">\n",
       "  <thead>\n",
       "    <tr style=\"text-align: right;\">\n",
       "      <th></th>\n",
       "      <th>class</th>\n",
       "      <th>odor</th>\n",
       "      <th>cap-shape</th>\n",
       "    </tr>\n",
       "  </thead>\n",
       "  <tbody>\n",
       "    <tr>\n",
       "      <th>0</th>\n",
       "      <td>1</td>\n",
       "      <td>8</td>\n",
       "      <td>3</td>\n",
       "    </tr>\n",
       "    <tr>\n",
       "      <th>1</th>\n",
       "      <td>2</td>\n",
       "      <td>1</td>\n",
       "      <td>3</td>\n",
       "    </tr>\n",
       "    <tr>\n",
       "      <th>2</th>\n",
       "      <td>2</td>\n",
       "      <td>2</td>\n",
       "      <td>1</td>\n",
       "    </tr>\n",
       "    <tr>\n",
       "      <th>3</th>\n",
       "      <td>1</td>\n",
       "      <td>8</td>\n",
       "      <td>3</td>\n",
       "    </tr>\n",
       "    <tr>\n",
       "      <th>4</th>\n",
       "      <td>2</td>\n",
       "      <td>7</td>\n",
       "      <td>3</td>\n",
       "    </tr>\n",
       "  </tbody>\n",
       "</table>\n",
       "</div>"
      ],
      "text/plain": [
       "   class  odor  cap-shape\n",
       "0      1     8          3\n",
       "1      2     1          3\n",
       "2      2     2          1\n",
       "3      1     8          3\n",
       "4      2     7          3"
      ]
     },
     "execution_count": 12,
     "metadata": {},
     "output_type": "execute_result"
    }
   ],
   "source": [
    "df_subset.head()"
   ]
  },
  {
   "cell_type": "markdown",
   "id": "929a4148",
   "metadata": {},
   "source": [
    "Import scikit-learn neighbors and metrics library"
   ]
  },
  {
   "cell_type": "code",
   "execution_count": 80,
   "id": "e1a76849",
   "metadata": {},
   "outputs": [],
   "source": [
    "from sklearn.neighbors import KNeighborsClassifier\n",
    "from sklearn import metrics"
   ]
  },
  {
   "cell_type": "markdown",
   "id": "5969f57d",
   "metadata": {},
   "source": [
    "Create the numpy X and y parameters"
   ]
  },
  {
   "cell_type": "code",
   "execution_count": 64,
   "id": "ada9545b",
   "metadata": {},
   "outputs": [],
   "source": [
    "X_odor=df_subset[[\"odor\"]].to_numpy()\n",
    "y=df_subset[\"class\"]"
   ]
  },
  {
   "cell_type": "markdown",
   "id": "b388ec2f",
   "metadata": {},
   "source": [
    "Create KNeighborsClassifier object"
   ]
  },
  {
   "cell_type": "code",
   "execution_count": 65,
   "id": "378f0af0",
   "metadata": {},
   "outputs": [],
   "source": [
    "knn = KNeighborsClassifier(n_neighbors=1)"
   ]
  },
  {
   "cell_type": "markdown",
   "id": "af6a6a0b",
   "metadata": {},
   "source": [
    "Fill the data and answer into the classifier"
   ]
  },
  {
   "cell_type": "code",
   "execution_count": 66,
   "id": "a3973802",
   "metadata": {},
   "outputs": [
    {
     "data": {
      "text/plain": [
       "KNeighborsClassifier(n_neighbors=1)"
      ]
     },
     "execution_count": 66,
     "metadata": {},
     "output_type": "execute_result"
    }
   ],
   "source": [
    "knn.fit(X_odor,y)"
   ]
  },
  {
   "cell_type": "markdown",
   "id": "d7a7b073",
   "metadata": {},
   "source": [
    "Make the prediction based on the odor values"
   ]
  },
  {
   "cell_type": "code",
   "execution_count": 73,
   "id": "38935fb0",
   "metadata": {},
   "outputs": [],
   "source": [
    "y_odor=knn.predict(X_odor)"
   ]
  },
  {
   "cell_type": "markdown",
   "id": "9a80c541",
   "metadata": {},
   "source": [
    "Evaluate the rate of accuracy by odor"
   ]
  },
  {
   "cell_type": "code",
   "execution_count": 75,
   "id": "af729df4",
   "metadata": {},
   "outputs": [
    {
     "data": {
      "text/plain": [
       "0.9852289512555391"
      ]
     },
     "execution_count": 75,
     "metadata": {},
     "output_type": "execute_result"
    }
   ],
   "source": [
    "metrics.accuracy_score(y,y_odor)"
   ]
  },
  {
   "cell_type": "markdown",
   "id": "af0d95fc",
   "metadata": {},
   "source": [
    "Create the numpy X by cap-shape"
   ]
  },
  {
   "cell_type": "code",
   "execution_count": 76,
   "id": "7b7b50ad",
   "metadata": {},
   "outputs": [],
   "source": [
    "X_capshape=df_subset[[\"cap-shape\"]].to_numpy()"
   ]
  },
  {
   "cell_type": "markdown",
   "id": "a31b9c29",
   "metadata": {},
   "source": [
    "Fill the data and answer into the classifier for cap-shape"
   ]
  },
  {
   "cell_type": "code",
   "execution_count": 77,
   "id": "f20c6cd1",
   "metadata": {},
   "outputs": [
    {
     "data": {
      "text/plain": [
       "KNeighborsClassifier(n_neighbors=1)"
      ]
     },
     "execution_count": 77,
     "metadata": {},
     "output_type": "execute_result"
    }
   ],
   "source": [
    "knn.fit(X_capshape,y)"
   ]
  },
  {
   "cell_type": "markdown",
   "id": "9a671526",
   "metadata": {},
   "source": [
    "Make the prediction based on the cap-shape values"
   ]
  },
  {
   "cell_type": "code",
   "execution_count": 78,
   "id": "107daf09",
   "metadata": {},
   "outputs": [],
   "source": [
    "y_capshape=knn.predict(X_capshape)"
   ]
  },
  {
   "cell_type": "markdown",
   "id": "37196d3c",
   "metadata": {},
   "source": [
    "Evaluate the rate of accuracy by cap-shape"
   ]
  },
  {
   "cell_type": "code",
   "execution_count": 79,
   "id": "68180049",
   "metadata": {},
   "outputs": [
    {
     "data": {
      "text/plain": [
       "0.5642540620384048"
      ]
     },
     "execution_count": 79,
     "metadata": {},
     "output_type": "execute_result"
    }
   ],
   "source": [
    "metrics.accuracy_score(y,y_capshape)"
   ]
  },
  {
   "cell_type": "markdown",
   "id": "2cdf9395",
   "metadata": {},
   "source": [
    "###### Conclusion:\n",
    "The prediction by odor has an accuracy rate of 98.5% much more than the rate by cap-shape. So, using odor is more accurately predicts whether or not a mushroom is poisonous."
   ]
  }
 ],
 "metadata": {
  "kernelspec": {
   "display_name": "Python 3",
   "language": "python",
   "name": "python3"
  },
  "language_info": {
   "codemirror_mode": {
    "name": "ipython",
    "version": 3
   },
   "file_extension": ".py",
   "mimetype": "text/x-python",
   "name": "python",
   "nbconvert_exporter": "python",
   "pygments_lexer": "ipython3",
   "version": "3.8.8"
  }
 },
 "nbformat": 4,
 "nbformat_minor": 5
}
